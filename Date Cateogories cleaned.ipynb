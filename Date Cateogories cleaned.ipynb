{
 "cells": [
  {
   "cell_type": "markdown",
   "id": "b0f641ed",
   "metadata": {},
   "source": [
    "Date_Catagories"
   ]
  },
  {
   "cell_type": "code",
   "execution_count": 2,
   "id": "423d49d9",
   "metadata": {},
   "outputs": [
    {
     "name": "stdout",
     "output_type": "stream",
     "text": [
      "         Date  Weekday  Weekend  January  February  March  April  May  June  \\\n",
      "0  2019-01-01        1        0        1         0      0      0    0     0   \n",
      "1  2019-01-02        1        0        1         0      0      0    0     0   \n",
      "2  2019-01-03        1        0        1         0      0      0    0     0   \n",
      "3  2019-01-04        1        0        1         0      0      0    0     0   \n",
      "4  2019-01-05        0        1        1         0      0      0    0     0   \n",
      "\n",
      "   July  August  September  October  November  December  Holiday  \n",
      "0     0       0          0        0         0         0        1  \n",
      "1     0       0          0        0         0         0        0  \n",
      "2     0       0          0        0         0         0        0  \n",
      "3     0       0          0        0         0         0        0  \n",
      "4     0       0          0        0         0         0        0  \n"
     ]
    }
   ],
   "source": [
    "import pandas as pd\n",
    "\n",
    "file_path_dates = r\"C:\\Users\\darsh\\Downloads\\2025-Data\\Data\\Predict With - X\\Date_Catagories.xlsx\"\n",
    "\n",
    "df_dates = pd.read_excel(file_path_dates, engine=\"openpyxl\")\n",
    "\n",
    "df_dates = df_dates.rename(columns=lambda x: str(x).strip())\n",
    "\n",
    "for col in df_dates.select_dtypes(include='object').columns:\n",
    "    df_dates[col] = df_dates[col].astype(str).str.strip()\n",
    "\n",
    "for col in df_dates.columns:\n",
    "    try:\n",
    "        df_dates[col] = pd.to_numeric(df_dates[col])\n",
    "    except:\n",
    "        pass\n",
    "\n",
    "df_dates.to_csv(r\"C:\\Users\\darsh\\Downloads\\Cleaned_Date_Catagories.csv\", index=False)\n",
    "\n",
    "print(df_dates.head())\n"
   ]
  }
 ],
 "metadata": {
  "kernelspec": {
   "display_name": "base",
   "language": "python",
   "name": "python3"
  },
  "language_info": {
   "codemirror_mode": {
    "name": "ipython",
    "version": 3
   },
   "file_extension": ".py",
   "mimetype": "text/x-python",
   "name": "python",
   "nbconvert_exporter": "python",
   "pygments_lexer": "ipython3",
   "version": "3.12.3"
  }
 },
 "nbformat": 4,
 "nbformat_minor": 5
}
