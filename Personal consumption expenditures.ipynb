{
 "cells": [
  {
   "cell_type": "markdown",
   "id": "25e91e98",
   "metadata": {},
   "source": [
    "SAPCE1_NJ_1997_2022"
   ]
  },
  {
   "cell_type": "code",
   "execution_count": null,
   "id": "4ecb9234",
   "metadata": {},
   "outputs": [
    {
     "name": "stdout",
     "output_type": "stream",
     "text": [
      "  GeoFIPS     GeoName  Region TableName  LineCode IndustryClassification  \\\n",
      "0   34000  New Jersey     2.0    SAPCE1       1.0                    ...   \n",
      "1   34000  New Jersey     2.0    SAPCE1       2.0                    ...   \n",
      "2   34000  New Jersey     2.0    SAPCE1       3.0                    ...   \n",
      "3   34000  New Jersey     2.0    SAPCE1       4.0                    ...   \n",
      "4   34000  New Jersey     2.0    SAPCE1       5.0                    ...   \n",
      "\n",
      "                                   Description                         Unit  \\\n",
      "0            Personal consumption expenditures  Millions of current dollars   \n",
      "1                                        Goods  Millions of current dollars   \n",
      "2                                Durable goods  Millions of current dollars   \n",
      "3                     Motor vehicles and parts  Millions of current dollars   \n",
      "4  Furnishings and durable household equipment  Millions of current dollars   \n",
      "\n",
      "       1997      1998  ...      2013      2014      2015      2016      2017  \\\n",
      "0  193615.1  206219.0  ...  381523.2  394640.6  404207.8  415927.6  428802.3   \n",
      "1   68540.7   72088.5  ...  121987.8  125471.4  126943.8  127246.7  130319.2   \n",
      "2   23024.2   25015.1  ...   39010.8   39677.4   40570.1   40500.8   41332.5   \n",
      "3    8441.3    8984.7  ...   12784.9   13134.1   13786.4   13669.2   13828.6   \n",
      "4    5442.4    5941.1  ...    8800.1    9040.4    9399.3    9831.2   10268.0   \n",
      "\n",
      "       2018      2019      2020      2021      2022  \n",
      "0  446294.5  463021.9  453151.6  514108.0  556464.6  \n",
      "1  135164.6  140189.6  142419.5  168770.3  179376.9  \n",
      "2   42992.5   44550.3   45522.5   56440.1   59339.0  \n",
      "3   14192.6   14003.1   13486.4   16882.7   18064.6  \n",
      "4   10889.5   11629.4   12128.6   14572.6   15323.0  \n",
      "\n",
      "[5 rows x 34 columns]\n"
     ]
    }
   ],
   "source": [
    "import pandas as pd\n",
    "\n",
    "file_path_1 = \"SAPCE1_NJ_1997_2022.csv\"\n",
    "df1 = pd.read_csv(file_path_1)\n",
    "\n",
    "df1['GeoFIPS'] = df1['GeoFIPS'].astype(str).str.replace('\"', '').str.strip()\n",
    "\n",
    "for col in df1.select_dtypes(include='object').columns:\n",
    "    df1[col] = df1[col].str.strip()\n",
    "\n",
    "year_columns_1 = [col for col in df1.columns if col.isdigit()]\n",
    "df1[year_columns_1] = df1[year_columns_1].apply(pd.to_numeric, errors='coerce')\n",
    "\n",
    "df1.to_csv(r\"C:\\Users\\darsh\\Downloads\\Cleaned_SAPCE1_NJ_1997_2022.csv\", index=False)\n",
    "\n",
    "print(df1.head())\n"
   ]
  },
  {
   "cell_type": "markdown",
   "id": "5e4e171d",
   "metadata": {},
   "source": [
    "SAPCE2_NJ_1997_2022"
   ]
  },
  {
   "cell_type": "code",
   "execution_count": null,
   "id": "ff524257",
   "metadata": {},
   "outputs": [
    {
     "name": "stdout",
     "output_type": "stream",
     "text": [
      "  GeoFIPS     GeoName  Region TableName  LineCode IndustryClassification  \\\n",
      "0   34000  New Jersey     2.0    SAPCE2       1.0                    ...   \n",
      "1   34000  New Jersey     2.0    SAPCE2       2.0                    ...   \n",
      "2   34000  New Jersey     2.0    SAPCE2       3.0                    ...   \n",
      "3   34000  New Jersey     2.0    SAPCE2       4.0                    ...   \n",
      "4   34000  New Jersey     2.0    SAPCE2       5.0                    ...   \n",
      "\n",
      "                                    Description     Unit     1997     1998  \\\n",
      "0  Per capita personal consumption expenditures  Dollars  23558.0  24883.0   \n",
      "1                                         Goods  Dollars   8339.0   8699.0   \n",
      "2                                 Durable goods  Dollars   2801.0   3018.0   \n",
      "3                      Motor vehicles and parts  Dollars   1027.0   1084.0   \n",
      "4   Furnishings and durable household equipment  Dollars    662.0    717.0   \n",
      "\n",
      "   ...     2013     2014     2015     2016     2017     2018     2019  \\\n",
      "0  ...  42463.0  43685.0  44533.0  45607.0  46736.0  48411.0  50009.0   \n",
      "1  ...  13577.0  13889.0  13986.0  13953.0  14204.0  14662.0  15141.0   \n",
      "2  ...   4342.0   4392.0   4470.0   4441.0   4505.0   4664.0   4812.0   \n",
      "3  ...   1423.0   1454.0   1519.0   1499.0   1507.0   1540.0   1512.0   \n",
      "4  ...    979.0   1001.0   1036.0   1078.0   1119.0   1181.0   1256.0   \n",
      "\n",
      "      2020     2021     2022  \n",
      "0  48875.0  55472.0  60082.0  \n",
      "1  15361.0  18210.0  19368.0  \n",
      "2   4910.0   6090.0   6407.0  \n",
      "3   1455.0   1822.0   1950.0  \n",
      "4   1308.0   1572.0   1654.0  \n",
      "\n",
      "[5 rows x 34 columns]\n"
     ]
    }
   ],
   "source": [
    "import pandas as pd\n",
    "\n",
    "file_path_2 = \"SAPCE2_NJ_1997_2022.csv\"\n",
    "df2 = pd.read_csv(file_path_2)\n",
    "\n",
    "df2['GeoFIPS'] = df2['GeoFIPS'].astype(str).str.replace('\"', '').str.strip()\n",
    "\n",
    "for col in df2.select_dtypes(include='object').columns:\n",
    "    df2[col] = df2[col].str.strip()\n",
    "\n",
    "year_columns_2 = [col for col in df2.columns if col.isdigit()]\n",
    "df2[year_columns_2] = df2[year_columns_2].apply(pd.to_numeric, errors='coerce')\n",
    "\n",
    "df2.to_csv(r\"C:\\Users\\darsh\\Downloads\\Cleaned_SAPCE2_NJ_1997_2022.csv\", index=False)\n",
    "\n",
    "print(df2.head())\n"
   ]
  },
  {
   "cell_type": "markdown",
   "id": "cbaee16e",
   "metadata": {},
   "source": [
    "SAPCE3_NJ_1997_2022"
   ]
  },
  {
   "cell_type": "code",
   "execution_count": null,
   "id": "73d37c48",
   "metadata": {},
   "outputs": [
    {
     "name": "stdout",
     "output_type": "stream",
     "text": [
      "  GeoFIPS     GeoName  Region TableName  LineCode IndustryClassification  \\\n",
      "0   34000  New Jersey     2.0    SAPCE3       1.0                    ...   \n",
      "1   34000  New Jersey     2.0    SAPCE3       2.0                    ...   \n",
      "2   34000  New Jersey     2.0    SAPCE3       3.0                    ...   \n",
      "3   34000  New Jersey     2.0    SAPCE3       4.0                    ...   \n",
      "4   34000  New Jersey     2.0    SAPCE3       5.0                    ...   \n",
      "\n",
      "                         Description                         Unit      1997  \\\n",
      "0  Personal consumption expenditures  Millions of current dollars  193615.1   \n",
      "1                              Goods  Millions of current dollars   68540.7   \n",
      "2                      Durable goods  Millions of current dollars   23024.2   \n",
      "3           Motor vehicles and parts  Millions of current dollars    8441.3   \n",
      "4                 New motor vehicles  Millions of current dollars    5298.3   \n",
      "\n",
      "       1998  ...      2013      2014      2015      2016      2017      2018  \\\n",
      "0  206219.0  ...  381523.2  394640.6  404207.8  415927.6  428802.3  446294.5   \n",
      "1   72088.5  ...  121987.8  125471.4  126943.8  127246.7  130319.2  135164.6   \n",
      "2   25015.1  ...   39010.8   39677.4   40570.1   40500.8   41332.5   42992.5   \n",
      "3    8984.7  ...   12784.9   13134.1   13786.4   13669.2   13828.6   14192.6   \n",
      "4    5717.9  ...    8617.5    8730.1    8841.6    8474.7    8423.8    8524.9   \n",
      "\n",
      "       2019      2020      2021      2022  \n",
      "0  463021.9  453151.6  514108.0  556464.6  \n",
      "1  140189.6  142419.5  168770.3  179376.9  \n",
      "2   44550.3   45522.5   56440.1   59339.0  \n",
      "3   14003.1   13486.4   16882.7   18064.6  \n",
      "4    8452.7    8302.4    9887.6   10732.8  \n",
      "\n",
      "[5 rows x 34 columns]\n"
     ]
    }
   ],
   "source": [
    "import pandas as pd\n",
    "\n",
    "file_path_3 = \"SAPCE3_NJ_1997_2022.csv\"\n",
    "df3 = pd.read_csv(file_path_3)\n",
    "\n",
    "df3['GeoFIPS'] = df3['GeoFIPS'].astype(str).str.replace('\"', '').str.strip()\n",
    "\n",
    "for col in df3.select_dtypes(include='object').columns:\n",
    "    df3[col] = df3[col].str.strip()\n",
    "\n",
    "year_columns_3 = [col for col in df3.columns if col.isdigit()]\n",
    "df3[year_columns_3] = df3[year_columns_3].apply(pd.to_numeric, errors='coerce')\n",
    "\n",
    "df3.to_csv(r\"C:\\Users\\darsh\\Downloads\\Cleaned_SAPCE3_NJ_1997_2022.csv\", index=False)\n",
    "\n",
    "print(df3.head())\n"
   ]
  },
  {
   "cell_type": "markdown",
   "id": "34cedcd4",
   "metadata": {},
   "source": [
    "SAPCE4_NJ_1997_2022"
   ]
  },
  {
   "cell_type": "code",
   "execution_count": null,
   "id": "56951ce9",
   "metadata": {},
   "outputs": [
    {
     "name": "stdout",
     "output_type": "stream",
     "text": [
      "  GeoFIPS     GeoName  Region TableName  LineCode IndustryClassification  \\\n",
      "0   34000  New Jersey     2.0    SAPCE4       1.0                    ...   \n",
      "1   34000  New Jersey     2.0    SAPCE4       2.0                    ...   \n",
      "2   34000  New Jersey     2.0    SAPCE4       3.0                    ...   \n",
      "3   34000  New Jersey     2.0    SAPCE4       4.0                    ...   \n",
      "4   34000  New Jersey     2.0    SAPCE4       5.0                    ...   \n",
      "\n",
      "                                         Description  \\\n",
      "0                  Personal consumption expenditures   \n",
      "1                 Household consumption expenditures   \n",
      "2  Food and beverages purchased for off-premises ...   \n",
      "3  Food and nonalcoholic beverages purchased for ...   \n",
      "4  Alcoholic beverages purchased for off-premises...   \n",
      "\n",
      "                          Unit      1997      1998  ...      2013      2014  \\\n",
      "0  Millions of current dollars  193615.1  206219.0  ...  381523.2  394640.6   \n",
      "1  Millions of current dollars  187366.6  199089.8  ...  358836.9  371366.4   \n",
      "2  Millions of current dollars   15555.3   16154.3  ...   27160.7   28121.5   \n",
      "3  Millions of current dollars   13241.8   13683.5  ...   23036.6   23747.9   \n",
      "4  Millions of current dollars    2311.2    2468.5  ...    4121.9    4365.1   \n",
      "\n",
      "       2015      2016      2017      2018      2019      2020      2021  \\\n",
      "0  404207.8  415927.6  428802.3  446294.5  463021.9  453151.6  514108.0   \n",
      "1  380089.2  389905.1  402053.3  418727.6  434409.8  423268.5  484100.5   \n",
      "2   28852.0   29268.2   30161.9   30927.4   32284.3   35350.6   37755.7   \n",
      "3   24191.6   24512.8   25182.2   25736.9   26824.0   29075.4   31062.5   \n",
      "4    4654.3    4750.0    4978.3    5189.2    5458.6    6273.3    6691.3   \n",
      "\n",
      "       2022  \n",
      "0  556464.6  \n",
      "1  522044.5  \n",
      "2   39638.8  \n",
      "3   32725.4  \n",
      "4    6907.3  \n",
      "\n",
      "[5 rows x 34 columns]\n"
     ]
    }
   ],
   "source": [
    "import pandas as pd\n",
    "\n",
    "file_path_4 = \"SAPCE4_NJ_1997_2022.csv\"\n",
    "df4 = pd.read_csv(file_path_4)\n",
    "\n",
    "df4['GeoFIPS'] = df4['GeoFIPS'].astype(str).str.replace('\"', '').str.strip()\n",
    "\n",
    "for col in df4.select_dtypes(include='object').columns:\n",
    "    df4[col] = df4[col].str.strip()\n",
    "\n",
    "year_columns_4 = [col for col in df4.columns if col.isdigit()]\n",
    "df4[year_columns_4] = df4[year_columns_4].apply(pd.to_numeric, errors='coerce')\n",
    "\n",
    "df4.to_csv(r\"C:\\Users\\darsh\\Downloads\\Cleaned_SAPCE4_NJ_1997_2022.csv\", index=False)\n",
    "\n",
    "print(df4.head())\n"
   ]
  }
 ],
 "metadata": {
  "kernelspec": {
   "display_name": "base",
   "language": "python",
   "name": "python3"
  },
  "language_info": {
   "codemirror_mode": {
    "name": "ipython",
    "version": 3
   },
   "file_extension": ".py",
   "mimetype": "text/x-python",
   "name": "python",
   "nbconvert_exporter": "python",
   "pygments_lexer": "ipython3",
   "version": "3.12.3"
  }
 },
 "nbformat": 4,
 "nbformat_minor": 5
}
