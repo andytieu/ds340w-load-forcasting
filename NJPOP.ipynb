{
 "cells": [
  {
   "cell_type": "markdown",
   "id": "9daf4b64",
   "metadata": {},
   "source": [
    "NJPOP"
   ]
  },
  {
   "cell_type": "code",
   "execution_count": 1,
   "id": "3a8e00c7",
   "metadata": {},
   "outputs": [
    {
     "name": "stdout",
     "output_type": "stream",
     "text": [
      "  observation_date   NJPOP\n",
      "0       1900-01-01  1884.0\n",
      "1       1901-01-01  1889.0\n",
      "2       1902-01-01  1917.0\n",
      "3       1903-01-01  1969.0\n",
      "4       1904-01-01  2050.0\n"
     ]
    }
   ],
   "source": [
    "import pandas as pd\n",
    "\n",
    "file_path_pop = \"NJPOP.csv\"\n",
    "\n",
    
    "df_pop = pd.read_csv(file_path_pop, skiprows=10)\n",
    "\n",
    
    "df_pop = df_pop.rename(columns=lambda x: str(x).strip())\n",
    "\n",
    
    "for col in df_pop.select_dtypes(include='object').columns:\n",
    "    df_pop[col] = df_pop[col].astype(str).str.strip()\n",
    "\n",
    
    "for col in df_pop.columns:\n",
    "    try:\n",
    "        df_pop[col] = pd.to_numeric(df_pop[col])\n",
    "    except:\n",
    "        pass\n",
    "\n",
   
    "df_pop.to_csv(r\"C:\\Users\\darsh\\Downloads\\Cleaned_NJPOP.csv\", index=False)\n",
    "\n",
    "print(df_pop.head())\n"
   ]
  }
 ],
 "metadata": {
  "kernelspec": {
   "display_name": "base",
   "language": "python",
   "name": "python3"
  },
  "language_info": {
   "codemirror_mode": {
    "name": "ipython",
    "version": 3
   },
   "file_extension": ".py",
   "mimetype": "text/x-python",
   "name": "python",
   "nbconvert_exporter": "python",
   "pygments_lexer": "ipython3",
   "version": "3.12.3"
  }
 },
 "nbformat": 4,
 "nbformat_minor": 5
}
