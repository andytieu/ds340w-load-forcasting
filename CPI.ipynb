{
 "cells": [
  {
   "cell_type": "markdown",
   "id": "fa88714a",
   "metadata": {},
   "source": [
    "SeriesReport-20240905203524_e01037"
   ]
  },
  {
   "cell_type": "code",
   "execution_count": null,
   "id": "c5592dde",
   "metadata": {},
   "outputs": [
    {
     "name": "stdout",
     "output_type": "stream",
     "text": [
      "   Year  Jan  Feb  Mar  Apr  May  Jun  Jul  Aug  Sep  Oct  Nov  Dec  HALF1  \\\n",
      "0  2014  0.2  0.1  0.2  0.2  0.2  0.1  0.1  0.0  0.0  0.0 -0.2 -0.3    NaN   \n",
      "1  2015 -0.6  0.3  0.3  0.1  0.3  0.3  0.2  0.0 -0.2  0.1  0.1 -0.1    NaN   \n",
      "2  2016  0.0 -0.1  0.3  0.4  0.2  0.3 -0.1  0.2  0.3  0.2  0.1  0.3    NaN   \n",
      "3  2017  0.4  0.2  0.0  0.1 -0.1  0.1  0.0  0.4  0.5  0.1  0.3  0.2    NaN   \n",
      "4  2018  0.4  0.3  0.0  0.3  0.2  0.1  0.1  0.2  0.2  0.2 -0.1  0.1    NaN   \n",
      "\n",
      "   HALF2  \n",
      "0    NaN  \n",
      "1    NaN  \n",
      "2    NaN  \n",
      "3    NaN  \n",
      "4    NaN  \n"
     ]
    },
    {
     "name": "stderr",
     "output_type": "stream",
     "text": [
      "c:\\Users\\darsh\\anaconda3\\python\\Lib\\site-packages\\openpyxl\\styles\\stylesheet.py:226: UserWarning: Workbook contains no default style, apply openpyxl's default\n",
      "  warn(\"Workbook contains no default style, apply openpyxl's default\")\n",
      "C:\\Users\\darsh\\AppData\\Local\\Temp\\ipykernel_9044\\3042490286.py:13: FutureWarning: errors='ignore' is deprecated and will raise in a future version. Use to_numeric without passing `errors` and catch exceptions explicitly instead\n",
      "  df_cpi[col] = pd.to_numeric(df_cpi[col], errors='ignore')\n"
     ]
    }
   ],
   "source": [
    "import pandas as pd\n",
    "\n",
    "file_path_cpi = \"20240905203524_e01037.xlsx\"\n",
    "\n",
    "df_cpi = pd.read_excel(file_path_cpi, skiprows=11)\n",
    "\n",
    "df_cpi = df_cpi.rename(columns=lambda x: str(x).strip())\n",
    "\n",
    "for col in df_cpi.select_dtypes(include='object').columns:\n",
    "    df_cpi[col] = df_cpi[col].astype(str).str.strip()\n",
    "\n",
    "for col in df_cpi.columns:\n",
    "    df_cpi[col] = pd.to_numeric(df_cpi[col], errors='ignore')\n",
    "\n",
    "df_cpi.to_csv(r\"C:\\Users\\darsh\\Downloads\\Cleaned_CPI.csv\", index=False)\n",
    "\n",
    "print(df_cpi.head())\n"
   ]
  }
 ],
 "metadata": {
  "kernelspec": {
   "display_name": "base",
   "language": "python",
   "name": "python3"
  },
  "language_info": {
   "codemirror_mode": {
    "name": "ipython",
    "version": 3
   },
   "file_extension": ".py",
   "mimetype": "text/x-python",
   "name": "python",
   "nbconvert_exporter": "python",
   "pygments_lexer": "ipython3",
   "version": "3.12.3"
  }
 },
 "nbformat": 4,
 "nbformat_minor": 5
}
