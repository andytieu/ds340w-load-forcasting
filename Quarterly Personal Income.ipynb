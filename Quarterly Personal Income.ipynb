{
 "cells": [
  {
   "cell_type": "markdown",
   "id": "28c673f7",
   "metadata": {},
   "source": [
    "SQINC4_NJ_1948_2024"
   ]
  },
  {
   "cell_type": "code",
   "execution_count": 1,
   "id": "25de1300",
   "metadata": {},
   "outputs": [
    {
     "name": "stdout",
     "output_type": "stream",
     "text": [
      "  GeoFIPS     GeoName  Region TableName  LineCode IndustryClassification  \\\n",
      "0   34000  New Jersey     2.0    SQINC4      10.0                    ...   \n",
      "1   34000  New Jersey     2.0    SQINC4      11.0                    ...   \n",
      "2   34000  New Jersey     2.0    SQINC4      12.0                    ...   \n",
      "3   34000  New Jersey     2.0    SQINC4      20.0                    ...   \n",
      "4   34000  New Jersey     2.0    SQINC4      30.0                    ...   \n",
      "\n",
      "                                         Description                 Unit  \\\n",
      "0  Personal income (millions of dollars, seasonal...  Millions of dollars   \n",
      "1                         Nonfarm personal income 1/  Millions of dollars   \n",
      "2                                     Farm income 2/  Millions of dollars   \n",
      "3                 Population (midperiod, persons) 3/    Number of persons   \n",
      "4            Per capita personal income (dollars) 4/              Dollars   \n",
      "\n",
      "  1948:Q1 1948:Q2  ...    2021:Q4    2022:Q1    2022:Q2    2022:Q3    2022:Q4  \\\n",
      "0  7742.3  7854.7  ...   700461.1   703783.2   710656.2   720234.1   725287.3   \n",
      "1  7624.8  7719.2  ...   699990.2   703344.7   710237.0   719806.8   724764.4   \n",
      "2   117.5   135.5  ...      470.9      438.5      419.1      427.2      522.8   \n",
      "3    (NA)    (NA)  ...  9267482.0  9262174.0  9260532.0  9265655.0  9274133.0   \n",
      "4    (NA)    (NA)  ...    75583.0    75985.0    76740.0    77732.0    78205.0   \n",
      "\n",
      "     2023:Q1    2023:Q2    2023:Q3    2023:Q4    2024:Q1  \n",
      "0   737212.4   744899.6   755010.9   756542.5   767173.6  \n",
      "1   736789.3   744462.8   754649.6   756211.9   766794.6  \n",
      "2      423.1      436.8      361.3      330.7      379.0  \n",
      "3  9279877.0  9286541.0  9296420.0  9306299.0  9312994.0  \n",
      "4    79442.0    80213.0    81215.0    81294.0    82377.0  \n",
      "\n",
      "[5 rows x 313 columns]\n"
     ]
    }
   ],
   "source": [
    "import pandas as pd\n",
    "\n",
    "file_path_1 = r\"C:\\Users\\darsh\\Downloads\\2025-Data\\Data\\Predict With - X\\Economic\\Quarterly personal income\\SQINC4_NJ_1948_2024.csv\"\n",
    "df1 = pd.read_csv(file_path_1)\n",
    "\n",
    "df1['GeoFIPS'] = df1['GeoFIPS'].astype(str).str.replace('\"', '').str.strip()\n",
    "\n",
    "for col in df1.select_dtypes(include='object').columns:\n",
    "    df1[col] = df1[col].str.strip()\n",
    "\n",
    "year_columns_1 = [col for col in df1.columns if col.isdigit()]\n",
    "df1[year_columns_1] = df1[year_columns_1].apply(pd.to_numeric, errors='coerce')\n",
    "\n",
    "df1.to_csv(r\"C:\\Users\\darsh\\Downloads\\Cleaned_SQINC4_NJ_1948_2024.csv\", index=False)\n",
    "\n",
    "print(df1.head())\n"
   ]
  },
  {
   "cell_type": "markdown",
   "id": "04d16c92",
   "metadata": {},
   "source": [
    "SQINC5N_NJ_1998_2024"
   ]
  },
  {
   "cell_type": "code",
   "execution_count": 2,
   "id": "6435ba57",
   "metadata": {},
   "outputs": [
    {
     "name": "stdout",
     "output_type": "stream",
     "text": [
      "  GeoFIPS     GeoName  Region TableName  LineCode IndustryClassification  \\\n",
      "0   34000  New Jersey     2.0   SQINC5N      10.0                    ...   \n",
      "1   34000  New Jersey     2.0   SQINC5N      20.0                    ...   \n",
      "2   34000  New Jersey     2.0   SQINC5N      30.0                    ...   \n",
      "3   34000  New Jersey     2.0   SQINC5N      35.0                    ...   \n",
      "4   34000  New Jersey     2.0   SQINC5N      36.0                    ...   \n",
      "\n",
      "                                         Description                  Unit  \\\n",
      "0  Personal income (thousands of dollars, seasona...  Thousands of dollars   \n",
      "1                 Population (midperiod, persons) 2/     Number of persons   \n",
      "2            Per capita personal income (dollars) 3/               Dollars   \n",
      "3                          Earnings by place of work  Thousands of dollars   \n",
      "4  Less: Contributions for government social insu...  Thousands of dollars   \n",
      "\n",
      "     1998:Q1    1998:Q2  ...      2021:Q4      2022:Q1      2022:Q2  \\\n",
      "0  280087883  285137607  ...  700461127.0  703783170.0  710656160.0   \n",
      "1       (NA)       (NA)  ...    9267482.0    9262174.0    9260532.0   \n",
      "2       (NA)       (NA)  ...      75583.0      75985.0      76740.0   \n",
      "3  196264675  199666179  ...  451089403.0  451893234.0  457822700.0   \n",
      "4   22125732   22455352  ...   51082032.0   52579624.0   53457100.0   \n",
      "\n",
      "       2022:Q3      2022:Q4      2023:Q1      2023:Q2      2023:Q3  \\\n",
      "0  720234082.0  725287292.0  737212441.0  744899644.0  755010866.0   \n",
      "1    9265655.0    9274133.0    9279877.0    9286541.0    9296420.0   \n",
      "2      77732.0      78205.0      79442.0      80213.0      81215.0   \n",
      "3  465386930.0  468084064.0  473123442.0  478591881.0  488122226.0   \n",
      "4   54234792.0   54388016.0   55163302.0   55753849.0   56687070.0   \n",
      "\n",
      "       2023:Q4      2024:Q1  \n",
      "0  756542542.0  767173564.0  \n",
      "1    9306299.0    9312994.0  \n",
      "2      81294.0      82377.0  \n",
      "3  489548844.0  495041825.0  \n",
      "4   56698548.0   57802247.0  \n",
      "\n",
      "[5 rows x 113 columns]\n"
     ]
    }
   ],
   "source": [
    "import pandas as pd\n",
    "\n",
    "file_path_2 = r\"C:\\Users\\darsh\\Downloads\\2025-Data\\Data\\Predict With - X\\Economic\\Quarterly personal income\\SQINC5N_NJ_1998_2024.csv\"\n",
    "df2 = pd.read_csv(file_path_2)\n",
    "\n",
    "df2['GeoFIPS'] = df2['GeoFIPS'].astype(str).str.replace('\"', '').str.strip()\n",
    "\n",
    "for col in df2.select_dtypes(include='object').columns:\n",
    "    df2[col] = df2[col].str.strip()\n",
    "\n",
    "year_columns_2 = [col for col in df2.columns if col.isdigit()]\n",
    "df2[year_columns_2] = df2[year_columns_2].apply(pd.to_numeric, errors='coerce')\n",
    "\n",
    "df2.to_csv(r\"C:\\Users\\darsh\\Downloads\\Cleaned_SQINC5N_NJ_1998_2024.csv\", index=False)\n",
    "\n",
    "print(df2.head())\n"
   ]
  },
  {
   "cell_type": "markdown",
   "id": "6fe2e538",
   "metadata": {},
   "source": [
    "SQINC6N_NJ_1998_2024"
   ]
  },
  {
   "cell_type": "code",
   "execution_count": 3,
   "id": "582607bc",
   "metadata": {},
   "outputs": [
    {
     "name": "stdout",
     "output_type": "stream",
     "text": [
      "  GeoFIPS     GeoName  Region TableName  LineCode IndustryClassification  \\\n",
      "0   34000  New Jersey     2.0   SQINC6N       1.0                    ...   \n",
      "1   34000  New Jersey     2.0   SQINC6N       5.0                    ...   \n",
      "2   34000  New Jersey     2.0   SQINC6N       6.0                    ...   \n",
      "3   34000  New Jersey     2.0   SQINC6N       7.0                    ...   \n",
      "4   34000  New Jersey     2.0   SQINC6N       8.0                    ...   \n",
      "\n",
      "                                         Description                  Unit  \\\n",
      "0  Compensation of employees (thousands of dollar...  Thousands of dollars   \n",
      "1                                 Wages and salaries  Thousands of dollars   \n",
      "2                  Supplements to wages and salaries  Thousands of dollars   \n",
      "3  Employer contributions for employee pension an...  Thousands of dollars   \n",
      "4  Employer contributions for government social i...  Thousands of dollars   \n",
      "\n",
      "       1998:Q1      1998:Q2  ...      2021:Q4      2022:Q1      2022:Q2  \\\n",
      "0  177354004.0  180270172.0  ...  391659772.0  398440184.0  404039100.0   \n",
      "1  146817820.0  149181480.0  ...  323116948.0  329389808.0  334497568.0   \n",
      "2   30536184.0   31088692.0  ...   68542824.0   69050376.0   69541532.0   \n",
      "3   19568088.0   19960604.0  ...   45162356.0   45143832.0   45169256.0   \n",
      "4   10968096.0   11128088.0  ...   23380468.0   23906544.0   24372276.0   \n",
      "\n",
      "       2022:Q3      2022:Q4      2023:Q1      2023:Q2      2023:Q3  \\\n",
      "0  410025132.0  411752860.0  416490277.0  421655682.0  429981657.0   \n",
      "1  340332788.0  341726084.0  345658777.0  350342992.0  357415425.0   \n",
      "2   69692344.0   70026776.0   70831500.0   71312690.0   72566232.0   \n",
      "3   44864692.0   45114536.0   45407416.0   45571390.0   46380414.0   \n",
      "4   24827652.0   24912240.0   25424084.0   25741300.0   26185818.0   \n",
      "\n",
      "       2023:Q4      2024:Q1  \n",
      "0  430213674.0  435490995.0  \n",
      "1  357373023.0  361773554.0  \n",
      "2   72840651.0   73717441.0  \n",
      "3   46628115.0   47058033.0  \n",
      "4   26212536.0   26659408.0  \n",
      "\n",
      "[5 rows x 113 columns]\n"
     ]
    }
   ],
   "source": [
    "import pandas as pd\n",
    "\n",
    "file_path_3 = r\"C:\\Users\\darsh\\Downloads\\2025-Data\\Data\\Predict With - X\\Economic\\Quarterly personal income\\SQINC6N_NJ_1998_2024.csv\"\n",
    "df3 = pd.read_csv(file_path_3)\n",
    "\n",
    "df3['GeoFIPS'] = df3['GeoFIPS'].astype(str).str.replace('\"', '').str.strip()\n",
    "\n",
    "for col in df3.select_dtypes(include='object').columns:\n",
    "    df3[col] = df3[col].str.strip()\n",
    "\n",
    "year_columns_3 = [col for col in df3.columns if col.isdigit()]\n",
    "df3[year_columns_3] = df3[year_columns_3].apply(pd.to_numeric, errors='coerce')\n",
    "\n",
    "df3.to_csv(r\"C:\\Users\\darsh\\Downloads\\Cleaned_SQINC6N_NJ_1998_2024.csv\", index=False)\n",
    "\n",
    "print(df3.head())\n"
   ]
  },
  {
   "cell_type": "markdown",
   "id": "753ef6c5",
   "metadata": {},
   "source": [
    "SQINC7N_NJ_1998_2024"
   ]
  },
  {
   "cell_type": "code",
   "execution_count": 4,
   "id": "c6491dea",
   "metadata": {},
   "outputs": [
    {
     "name": "stdout",
     "output_type": "stream",
     "text": [
      "  GeoFIPS     GeoName  Region TableName  LineCode IndustryClassification  \\\n",
      "0   34000  New Jersey     2.0   SQINC7N      50.0                    ...   \n",
      "1   34000  New Jersey     2.0   SQINC7N      81.0                111-112   \n",
      "2   34000  New Jersey     2.0   SQINC7N      82.0                    ...   \n",
      "3   34000  New Jersey     2.0   SQINC7N      90.0                113-814   \n",
      "4   34000  New Jersey     2.0   SQINC7N     100.0                113-115   \n",
      "\n",
      "                                         Description                  Unit  \\\n",
      "0  Wages and salaries by place of work (thousands...  Thousands of dollars   \n",
      "1                            Farm wages and salaries  Thousands of dollars   \n",
      "2                         Nonfarm wages and salaries  Thousands of dollars   \n",
      "3                 Private nonfarm wages and salaries  Thousands of dollars   \n",
      "4          Forestry, fishing, and related activities  Thousands of dollars   \n",
      "\n",
      "       1998:Q1      1998:Q2  ...      2021:Q4      2022:Q1      2022:Q2  \\\n",
      "0  146817820.0  149181480.0  ...  323116948.0  329389808.0  334497568.0   \n",
      "1     155244.0     155540.0  ...     168984.0     241692.0     243496.0   \n",
      "2  146662576.0  149025940.0  ...  322947964.0  329148116.0  334254072.0   \n",
      "3  123822524.0  125615480.0  ...  279541848.0  285468444.0  290050280.0   \n",
      "4      48208.0      53272.0  ...     168488.0     161816.0     168328.0   \n",
      "\n",
      "       2022:Q3      2022:Q4      2023:Q1      2023:Q2      2023:Q3  \\\n",
      "0  340332788.0  341726084.0  345658777.0  350342992.0  357415425.0   \n",
      "1     247040.0     252376.0     257006.0     260212.0     261579.0   \n",
      "2  340085748.0  341473708.0  345401771.0  350082780.0  357153846.0   \n",
      "3  295430828.0  297036724.0  300099092.0  305328807.0  309817729.0   \n",
      "4     158796.0     175616.0     186215.0     184992.0     160857.0   \n",
      "\n",
      "       2023:Q4      2024:Q1  \n",
      "0  357373023.0  361773554.0  \n",
      "1     267586.0     274630.0  \n",
      "2  357105437.0  361498924.0  \n",
      "3  310187519.0  313641876.0  \n",
      "4     148618.0     159779.0  \n",
      "\n",
      "[5 rows x 113 columns]\n"
     ]
    }
   ],
   "source": [
    "import pandas as pd\n",
    "\n",
    "file_path_4 = r\"C:\\Users\\darsh\\Downloads\\2025-Data\\Data\\Predict With - X\\Economic\\Quarterly personal income\\SQINC7N_NJ_1998_2024.csv\"\n",
    "df4 = pd.read_csv(file_path_4)\n",
    "\n",
    "df4['GeoFIPS'] = df4['GeoFIPS'].astype(str).str.replace('\"', '').str.strip()\n",
    "\n",
    "for col in df4.select_dtypes(include='object').columns:\n",
    "    df4[col] = df4[col].str.strip()\n",
    "\n",
    "year_columns_4 = [col for col in df4.columns if col.isdigit()]\n",
    "df4[year_columns_4] = df4[year_columns_4].apply(pd.to_numeric, errors='coerce')\n",
    "\n",
    "df4.to_csv(r\"C:\\Users\\darsh\\Downloads\\Cleaned_SQINC7N_NJ_1998_2024.csv\", index=False)\n",
    "\n",
    "print(df4.head())\n"
   ]
  },
  {
   "cell_type": "markdown",
   "id": "97008d48",
   "metadata": {},
   "source": [
    "SQINC35_NJ_1948_2024"
   ]
  },
  {
   "cell_type": "code",
   "execution_count": 5,
   "id": "cb2bb25b",
   "metadata": {},
   "outputs": [
    {
     "name": "stdout",
     "output_type": "stream",
     "text": [
      "  GeoFIPS     GeoName  Region TableName  LineCode IndustryClassification  \\\n",
      "0   34000  New Jersey     2.0   SQINC35      10.0                    ...   \n",
      "1   34000  New Jersey     2.0   SQINC35    1000.0                    ...   \n",
      "2   34000  New Jersey     2.0   SQINC35    2110.0                    ...   \n",
      "3   34000  New Jersey     2.0   SQINC35    2210.0                    ...   \n",
      "4   34000  New Jersey     2.0   SQINC35    2221.0                    ...   \n",
      "\n",
      "                                         Description                  Unit  \\\n",
      "0  Personal income (thousands of dollars, seasona...  Thousands of dollars   \n",
      "1                 Personal current transfer receipts  Thousands of dollars   \n",
      "2                           Social Security benefits  Thousands of dollars   \n",
      "3                                  Medicare benefits  Thousands of dollars   \n",
      "4                                        Medicaid 1/  Thousands of dollars   \n",
      "\n",
      "   1948:Q1  1948:Q2  ...      2021:Q4      2022:Q1      2022:Q2      2022:Q3  \\\n",
      "0  7742320  7854728  ...  700461127.0  703783170.0  710656160.0  720234082.0   \n",
      "1   275920   273576  ...  107198784.0  106496484.0  107023868.0  106629456.0   \n",
      "2    24408    25732  ...   32304764.0   34084508.0   34412848.0   34687508.0   \n",
      "3     (NA)     (NA)  ...   25216880.0   25630764.0   25798660.0   25855516.0   \n",
      "4     (NA)     (NA)  ...   19404752.0   20723436.0   21504808.0   21708428.0   \n",
      "\n",
      "       2022:Q4      2023:Q1      2023:Q2      2023:Q3      2023:Q4  \\\n",
      "0  725287292.0  737212441.0  744899644.0  755010866.0  756542542.0   \n",
      "1  107840392.0  110719229.0  111362579.0  110797546.0  110606403.0   \n",
      "2   35056412.0   37940383.0   38288606.0   38478786.0   38806291.0   \n",
      "3   26032312.0   26111198.0   26189048.0   26278852.0   26380611.0   \n",
      "4   21854944.0   23002950.0   23708751.0   23043189.0   22574555.0   \n",
      "\n",
      "       2024:Q1  \n",
      "0  767173564.0  \n",
      "1  113995722.0  \n",
      "2   40124744.0  \n",
      "3   26663605.0  \n",
      "4   23373031.0  \n",
      "\n",
      "[5 rows x 313 columns]\n"
     ]
    }
   ],
   "source": [
    "import pandas as pd\n",
    "\n",
    "file_path_5 = r\"C:\\Users\\darsh\\Downloads\\2025-Data\\Data\\Predict With - X\\Economic\\Quarterly personal income\\SQINC35_NJ_1948_2024.csv\"\n",
    "df5 = pd.read_csv(file_path_5)\n",
    "\n",
    "df5['GeoFIPS'] = df5['GeoFIPS'].astype(str).str.replace('\"', '').str.strip()\n",
    "\n",
    "for col in df5.select_dtypes(include='object').columns:\n",
    "    df5[col] = df5[col].str.strip()\n",
    "\n",
    "year_columns_5 = [col for col in df5.columns if col.isdigit()]\n",
    "df5[year_columns_5] = df5[year_columns_5].apply(pd.to_numeric, errors='coerce')\n",
    "\n",
    "df5.to_csv(r\"C:\\Users\\darsh\\Downloads\\Cleaned_SQINC35_NJ_1948_2024.csv\", index=False)\n",
    "\n",
    "print(df5.head())\n"
   ]
  }
 ],
 "metadata": {
  "kernelspec": {
   "display_name": "base",
   "language": "python",
   "name": "python3"
  },
  "language_info": {
   "codemirror_mode": {
    "name": "ipython",
    "version": 3
   },
   "file_extension": ".py",
   "mimetype": "text/x-python",
   "name": "python",
   "nbconvert_exporter": "python",
   "pygments_lexer": "ipython3",
   "version": "3.12.3"
  }
 },
 "nbformat": 4,
 "nbformat_minor": 5
}
