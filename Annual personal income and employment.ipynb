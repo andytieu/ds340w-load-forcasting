{
 "cells": [
  {
   "cell_type": "markdown",
   "id": "bd167a55",
   "metadata": {},
   "source": [
    "SAINC4_NJ_1929_2023"
   ]
  },
  {
   "cell_type": "code",
   "execution_count": 4,
   "id": "0b8ff5a8",
   "metadata": {},
   "outputs": [
    {
     "name": "stdout",
     "output_type": "stream",
     "text": [
      "  GeoFIPS     GeoName  Region TableName  LineCode IndustryClassification  \\\n",
      "0   34000  New Jersey     2.0    SAINC4      10.0                    ...   \n",
      "1   34000  New Jersey     2.0    SAINC4      11.0                    ...   \n",
      "2   34000  New Jersey     2.0    SAINC4      12.0                    ...   \n",
      "3   34000  New Jersey     2.0    SAINC4      20.0                    ...   \n",
      "4   34000  New Jersey     2.0    SAINC4      30.0                    ...   \n",
      "\n",
      "                               Description                 Unit       1929  \\\n",
      "0    Personal income (millions of dollars)  Millions of dollars     3673.7   \n",
      "1               Nonfarm personal income 1/  Millions of dollars     3616.1   \n",
      "2                           Farm income 2/  Millions of dollars       57.5   \n",
      "3                  Population (persons) 3/    Number of persons  3989000.0   \n",
      "4  Per capita personal income (dollars) 4/              Dollars      921.0   \n",
      "\n",
      "        1930  ...       2014       2015       2016       2017       2018  \\\n",
      "0     3461.9  ...   509357.6   530303.1   545301.7   566237.1   591910.4   \n",
      "1     3406.6  ...   508997.6   529871.1   544910.5   565844.8   591597.8   \n",
      "2       55.3  ...      360.0      432.0      391.3      392.2      312.6   \n",
      "3  4068000.0  ...  9033845.0  9076577.0  9119862.0  9174898.0  9218858.0   \n",
      "4      851.0  ...    56383.0    58425.0    59793.0    61716.0    64206.0   \n",
      "\n",
      "        2019       2020       2021       2022       2023  \n",
      "0   624819.8   657894.4   705095.2   714990.2   749992.8  \n",
      "1   624313.8   657437.3   704647.9   714538.3   749586.9  \n",
      "2      506.0      457.0      447.3      451.9      405.9  \n",
      "3  9258804.0  9272392.0  9269175.0  9260817.0  9290841.0  \n",
      "4    67484.0    70952.0    76069.0    77206.0    80724.0  \n",
      "\n",
      "[5 rows x 103 columns]\n"
     ]
    }
   ],
   "source": [
    "import pandas as pd\n",
    "\n",
    "file_path = r\"C:\\Users\\darsh\\Downloads\\2025-Data\\Data\\Predict With - X\\Economic\\Annual personal income and employment\\SAINC4_NJ_1929_2023.csv\"\n",
    "df = pd.read_csv(file_path)\n",
    "\n",
    "df['GeoFIPS'] = df['GeoFIPS'].astype(str).str.replace('\"', '').str.strip()\n",
    "\n",
    "for col in df.select_dtypes(include='object').columns:\n",
    "    df[col] = df[col].str.strip()\n",
    "\n",
    "year_columns = [col for col in df.columns if col.isdigit()]\n",
    "df[year_columns] = df[year_columns].apply(pd.to_numeric, errors='coerce')\n",
    "\n",
    "df.to_csv(r\"C:\\Users\\darsh\\Downloads\\Cleaned_SAINC4_NJ_1929_2023.csv\", index=False)\n",
    "\n",
    "print(df.head())\n"
   ]
  },
  {
   "cell_type": "markdown",
   "id": "f25d981e",
   "metadata": {},
   "source": [
    "SAINC5N NJ 1998 2023"
   ]
  },
  {
   "cell_type": "code",
   "execution_count": 5,
   "id": "c6390c90",
   "metadata": {},
   "outputs": [
    {
     "name": "stdout",
     "output_type": "stream",
     "text": [
      "  GeoFIPS     GeoName  Region TableName  LineCode IndustryClassification  \\\n",
      "0   34000  New Jersey     2.0   SAINC5N      10.0                    ...   \n",
      "1   34000  New Jersey     2.0   SAINC5N      20.0                    ...   \n",
      "2   34000  New Jersey     2.0   SAINC5N      30.0                    ...   \n",
      "3   34000  New Jersey     2.0   SAINC5N      35.0                    ...   \n",
      "4   34000  New Jersey     2.0   SAINC5N      36.0                    ...   \n",
      "\n",
      "                                         Description                  Unit  \\\n",
      "0             Personal income (thousands of dollars)  Thousands of dollars   \n",
      "1                            Population (persons) 2/     Number of persons   \n",
      "2            Per capita personal income (dollars) 3/               Dollars   \n",
      "3                          Earnings by place of work  Thousands of dollars   \n",
      "4  Less: Contributions for government social insu...  Thousands of dollars   \n",
      "\n",
      "          1998         1999  ...         2014         2015         2016  \\\n",
      "0  286580221.0  299723847.0  ...  509357588.0  530303097.0  545301738.0   \n",
      "1    8287418.0    8359592.0  ...    9033845.0    9076577.0    9119862.0   \n",
      "2      34580.0      35854.0  ...      56383.0      58425.0      59793.0   \n",
      "3  201798426.0  213357244.0  ...  343914556.0  356643697.0  363904475.0   \n",
      "4   22685478.0   23765518.0  ...   38482415.0   39789491.0   40434617.0   \n",
      "\n",
      "          2017         2018         2019         2020         2021  \\\n",
      "0  566237088.0  591910410.0  624819804.0  657894366.0  705095171.0   \n",
      "1    9174898.0    9218858.0    9258804.0    9272392.0    9269175.0   \n",
      "2      61716.0      64206.0      67484.0      70952.0      76069.0   \n",
      "3  376496539.0  392158162.0  408762905.0  410231771.0  436501326.0   \n",
      "4   42191025.0   43440258.0   45013734.0   45141449.0   49067172.0   \n",
      "\n",
      "          2022         2023  \n",
      "0  714990176.0  749992808.0  \n",
      "1    9260817.0    9290841.0  \n",
      "2      77206.0      80724.0  \n",
      "3  460796732.0  483557194.0  \n",
      "4   53664883.0   56205908.0  \n",
      "\n",
      "[5 rows x 34 columns]\n"
     ]
    }
   ],
   "source": [
    "import pandas as pd\n",
    "\n",
    "file_path = r\"C:\\Users\\darsh\\Downloads\\2025-Data\\Data\\Predict With - X\\Economic\\Annual personal income and employment\\SAINC5N_NJ_1998_2023.csv\"\n",
    "df = pd.read_csv(file_path)\n",
    "\n",
    "df['GeoFIPS'] = df['GeoFIPS'].astype(str).str.replace('\"', '').str.strip()\n",
    "\n",
    "for col in df.select_dtypes(include='object').columns:\n",
    "    df[col] = df[col].str.strip()\n",
    "\n",
    "year_columns = [col for col in df.columns if col.isdigit()]\n",
    "df[year_columns] = df[year_columns].apply(pd.to_numeric, errors='coerce')\n",
    "\n",
    "df.to_csv(r\"C:\\Users\\darsh\\Downloads\\Cleaned_SAINC5N_NJ_1998_2023.csv\", index=False)\n",
    "\n",
    "print(df.head())\n"
   ]
  },
  {
   "cell_type": "markdown",
   "id": "49021ef8",
   "metadata": {},
   "source": [
    "SAINC6N NJ 1998 2023"
   ]
  },
  {
   "cell_type": "code",
   "execution_count": 6,
   "id": "e7ac530f",
   "metadata": {},
   "outputs": [
    {
     "name": "stdout",
     "output_type": "stream",
     "text": [
      "  GeoFIPS     GeoName  Region TableName  LineCode IndustryClassification  \\\n",
      "0   34000  New Jersey     2.0   SAINC6N       1.0                    ...   \n",
      "1   34000  New Jersey     2.0   SAINC6N       5.0                    ...   \n",
      "2   34000  New Jersey     2.0   SAINC6N       6.0                    ...   \n",
      "3   34000  New Jersey     2.0   SAINC6N       7.0                    ...   \n",
      "4   34000  New Jersey     2.0   SAINC6N       8.0                    ...   \n",
      "\n",
      "                                         Description                  Unit  \\\n",
      "0  Compensation of employees (thousands of dollar...  Thousands of dollars   \n",
      "1                                 Wages and salaries  Thousands of dollars   \n",
      "2                  Supplements to wages and salaries  Thousands of dollars   \n",
      "3  Employer contributions for employee pension an...  Thousands of dollars   \n",
      "4  Employer contributions for government social i...  Thousands of dollars   \n",
      "\n",
      "          1998         1999  ...         2014         2015         2016  \\\n",
      "0  182073600.0  191464567.0  ...  297584298.0  308563392.0  314115810.0   \n",
      "1  150785679.0  159052400.0  ...  240545121.0  251004722.0  257010669.0   \n",
      "2   31287921.0   32412167.0  ...   57039177.0   57558670.0   57105141.0   \n",
      "3   20050573.0   20712392.0  ...   38715924.0   38675834.0   38158950.0   \n",
      "4   11237348.0   11699775.0  ...   18323253.0   18882836.0   18946191.0   \n",
      "\n",
      "          2017         2018         2019         2020         2021  \\\n",
      "0  323742031.0  336856412.0  350357265.0  351988204.0  378228544.0   \n",
      "1  265813312.0  275554887.0  285430294.0  287631783.0  310701091.0   \n",
      "2   57928719.0   61301525.0   64926971.0   64356421.0   67527453.0   \n",
      "3   38432868.0   41466079.0   44545744.0   43892449.0   45199892.0   \n",
      "4   19495851.0   19835446.0   20381227.0   20463972.0   22327561.0   \n",
      "\n",
      "          2022         2023  \n",
      "0  406064319.0  425725761.0  \n",
      "1  336486562.0  353739517.0  \n",
      "2   69577757.0   71986244.0  \n",
      "3   45073079.0   46043434.0  \n",
      "4   24504678.0   25942810.0  \n",
      "\n",
      "[5 rows x 34 columns]\n"
     ]
    }
   ],
   "source": [
    "import pandas as pd\n",
    "\n",
    "file_path_6 = r\"C:\\Users\\darsh\\Downloads\\2025-Data\\Data\\Predict With - X\\Economic\\Annual personal income and employment\\SAINC6N_NJ_1998_2023.csv\"\n",
    "df6 = pd.read_csv(file_path_6)\n",
    "\n",
    "df6['GeoFIPS'] = df6['GeoFIPS'].astype(str).str.replace('\"', '').str.strip()\n",
    "\n",
    "for col in df6.select_dtypes(include='object').columns:\n",
    "    df6[col] = df6[col].str.strip()\n",
    "\n",
    "year_columns_6 = [col for col in df6.columns if col.isdigit()]\n",
    "df6[year_columns_6] = df6[year_columns_6].apply(pd.to_numeric, errors='coerce')\n",
    "\n",
    "df6.to_csv(r\"C:\\Users\\darsh\\Downloads\\Cleaned_SAINC6N_NJ_1998_2023.csv\", index=False)\n",
    "\n",
    "print(df6.head())\n"
   ]
  },
  {
   "cell_type": "markdown",
   "id": "8d7e6880",
   "metadata": {},
   "source": [
    "Code for SAINC7N_NJ_1998_2023"
   ]
  },
  {
   "cell_type": "code",
   "execution_count": 7,
   "id": "2d87b064",
   "metadata": {},
   "outputs": [
    {
     "name": "stdout",
     "output_type": "stream",
     "text": [
      "  GeoFIPS     GeoName  Region TableName  LineCode IndustryClassification  \\\n",
      "0   34000  New Jersey     2.0   SAINC7N      50.0                    ...   \n",
      "1   34000  New Jersey     2.0   SAINC7N      81.0                111-112   \n",
      "2   34000  New Jersey     2.0   SAINC7N      82.0                    ...   \n",
      "3   34000  New Jersey     2.0   SAINC7N      90.0                113-814   \n",
      "4   34000  New Jersey     2.0   SAINC7N     100.0                113-115   \n",
      "\n",
      "                                         Description                  Unit  \\\n",
      "0  Wages and salaries by place of work (thousands...  Thousands of dollars   \n",
      "1                            Farm wages and salaries  Thousands of dollars   \n",
      "2                         Nonfarm wages and salaries  Thousands of dollars   \n",
      "3                 Private nonfarm wages and salaries  Thousands of dollars   \n",
      "4          Forestry, fishing, and related activities  Thousands of dollars   \n",
      "\n",
      "          1998         1999  ...         2014         2015         2016  \\\n",
      "0  150785679.0  159052400.0  ...  240545121.0  251004722.0  257010669.0   \n",
      "1     153733.0     142513.0  ...     238629.0     193858.0     220198.0   \n",
      "2  150631946.0  158909887.0  ...  240306492.0  250810864.0  256790471.0   \n",
      "3  127347407.0  134860270.0  ...  202467835.0  212457570.0  218230932.0   \n",
      "4      50769.0      52832.0  ...      96627.0     106020.0     132970.0   \n",
      "\n",
      "          2017         2018         2019         2020         2021  \\\n",
      "0  265813312.0  275554887.0  285430294.0  287631783.0  310701091.0   \n",
      "1     221079.0     208014.0     167286.0     178937.0     169865.0   \n",
      "2  265592233.0  275346873.0  285263008.0  287452846.0  310531226.0   \n",
      "3  226270993.0  234891836.0  243878508.0  245724449.0  268173395.0   \n",
      "4     135796.0     140737.0     147087.0     145901.0     164091.0   \n",
      "\n",
      "          2022         2023  \n",
      "0  336486562.0  353739517.0  \n",
      "1     246151.0     261596.0  \n",
      "2  336240411.0  353477921.0  \n",
      "3  291996569.0  307111969.0  \n",
      "4     166139.0     176790.0  \n",
      "\n",
      "[5 rows x 34 columns]\n"
     ]
    }
   ],
   "source": [
    "import pandas as pd\n",
    "\n",
    "file_path_7 = r\"C:\\Users\\darsh\\Downloads\\2025-Data\\Data\\Predict With - X\\Economic\\Annual personal income and employment\\SAINC7N_NJ_1998_2023.csv\"\n",
    "df7 = pd.read_csv(file_path_7)\n",
    "\n",
    "df7['GeoFIPS'] = df7['GeoFIPS'].astype(str).str.replace('\"', '').str.strip()\n",
    "\n",
    "for col in df7.select_dtypes(include='object').columns:\n",
    "    df7[col] = df7[col].str.strip()\n",
    "\n",
    "year_columns_7 = [col for col in df7.columns if col.isdigit()]\n",
    "df7[year_columns_7] = df7[year_columns_7].apply(pd.to_numeric, errors='coerce')\n",
    "\n",
    "df7.to_csv(r\"C:\\Users\\darsh\\Downloads\\Cleaned_SAINC7N_NJ_1998_2023.csv\", index=False)\n",
    "\n",
    "print(df7.head())\n"
   ]
  }
 ],
 "metadata": {
  "kernelspec": {
   "display_name": "base",
   "language": "python",
   "name": "python3"
  },
  "language_info": {
   "codemirror_mode": {
    "name": "ipython",
    "version": 3
   },
   "file_extension": ".py",
   "mimetype": "text/x-python",
   "name": "python",
   "nbconvert_exporter": "python",
   "pygments_lexer": "ipython3",
   "version": "3.12.3"
  }
 },
 "nbformat": 4,
 "nbformat_minor": 5
}
