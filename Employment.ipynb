{
 "cells": [
  {
   "cell_type": "markdown",
   "id": "4914dbf2",
   "metadata": {},
   "source": [
    "SeriesReport-20240905203255_d72ca2"
   ]
  },
  {
   "cell_type": "code",
   "execution_count": 1,
   "id": "8c7acf9e",
   "metadata": {},
   "outputs": [
    {
     "name": "stdout",
     "output_type": "stream",
     "text": [
      "   2014  4148926  4157794  4167358  4175971  4183785  4191512  4198635  \\\n",
      "0  2015  4221064  4222229  4224426  4227666  4231181  4234299  4237324   \n",
      "1  2016  4273085  4275593  4275290  4273344  4271365  4269959  4269348   \n",
      "2  2017  4396117  4402506  4408891  4414239  4417571  4418021  4415446   \n",
      "3  2018  4385453  4391311  4400669  4410368  4417829  4422709  4425537   \n",
      "4  2019  4463689  4474694  4486361  4499413  4513215  4526389  4537805   \n",
      "\n",
      "     4205182    4211077    4215767    4218647    4220057  \n",
      "0  4240738.0  4245263.0  4251866.0  4260009.0  4267692.0  \n",
      "1  4269454.0  4269602.0  4269123.0  4268999.0  4270453.0  \n",
      "2  4410238.0  4403727.0  4397686.0  4392811.0  4390479.0  \n",
      "3  4427631.0  4430370.0  4435151.0  4442666.0  4452345.0  \n",
      "4  4547199.0  4555901.0  4563497.0  4569340.0  4571091.0  \n"
     ]
    },
    {
     "name": "stderr",
     "output_type": "stream",
     "text": [
      "c:\\Users\\darsh\\anaconda3\\python\\Lib\\site-packages\\openpyxl\\styles\\stylesheet.py:226: UserWarning: Workbook contains no default style, apply openpyxl's default\n",
      "  warn(\"Workbook contains no default style, apply openpyxl's default\")\n",
      "C:\\Users\\darsh\\AppData\\Local\\Temp\\ipykernel_33928\\3869023542.py:12: FutureWarning: errors='ignore' is deprecated and will raise in a future version. Use to_numeric without passing `errors` and catch exceptions explicitly instead\n",
      "  df_emp[col] = pd.to_numeric(df_emp[col], errors='ignore')\n"
     ]
    }
   ],
   "source": [
    "import pandas as pd\n",
    "\n",
    "file_path_emp = \"SeriesReport-20240905203255_d72ca2.xlsx\"\n",
    "\n",
    "df_emp = pd.read_excel(file_path_emp, skiprows=11)\n",
    "df_emp = df_emp.rename(columns=lambda x: str(x).strip())\n",
    "\n",
    "for col in df_emp.select_dtypes(include='object').columns:\n",
    "    df_emp[col] = df_emp[col].astype(str).str.strip()\n",
    "\n",
    "for col in df_emp.columns:\n",
    "    df_emp[col] = pd.to_numeric(df_emp[col], errors='ignore')\n",
    "\n",
    "df_emp.to_csv(r\"C:\\Users\\darsh\\Downloads\\Cleaned_Employment.csv\", index=False)\n",
    "\n",
    "print(df_emp.head())\n"
   ]
  }
 ],
 "metadata": {
  "kernelspec": {
   "display_name": "base",
   "language": "python",
   "name": "python3"
  },
  "language_info": {
   "codemirror_mode": {
    "name": "ipython",
    "version": 3
   },
   "file_extension": ".py",
   "mimetype": "text/x-python",
   "name": "python",
   "nbconvert_exporter": "python",
   "pygments_lexer": "ipython3",
   "version": "3.12.3"
  }
 },
 "nbformat": 4,
 "nbformat_minor": 5
}
